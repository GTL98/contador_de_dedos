{
 "cells": [
  {
   "cell_type": "markdown",
   "metadata": {},
   "source": [
    "***A aula explicando o passo a passo e o módulo para esse projeto estão no diretório: https://github.com/GTL98/curso-completo-de-visao-computacional-avancada-com-python***"
   ]
  },
  {
   "cell_type": "markdown",
   "metadata": {},
   "source": [
    "### Importar as bibliotecas"
   ]
  },
  {
   "cell_type": "code",
   "execution_count": 12,
   "metadata": {},
   "outputs": [],
   "source": [
    "import cv2\n",
    "import time\n",
    "import os\n",
    "import rastreamento_mao as rm"
   ]
  },
  {
   "cell_type": "markdown",
   "metadata": {},
   "source": [
    "### Definir o tamanho da tela"
   ]
  },
  {
   "cell_type": "code",
   "execution_count": 2,
   "metadata": {},
   "outputs": [],
   "source": [
    "largura_tela = 640\n",
    "altura_tela = 480"
   ]
  },
  {
   "cell_type": "markdown",
   "metadata": {},
   "source": [
    "### Imagens dos dedos"
   ]
  },
  {
   "cell_type": "code",
   "execution_count": 3,
   "metadata": {},
   "outputs": [
    {
     "name": "stdout",
     "output_type": "stream",
     "text": [
      "['1.png', '2.png', '3.png', '4.png', '5.png', '6.png']\n"
     ]
    }
   ],
   "source": [
    "caminho = 'imagens_dedos'\n",
    "lista_imagens = os.listdir(caminho)\n",
    "print(lista_imagens)\n",
    "lista_fotos = []\n",
    "for caminho_imagem in lista_imagens:\n",
    "    foto = cv2.imread(f'{caminho}/{caminho_imagem}')\n",
    "    lista_fotos.append(foto)"
   ]
  },
  {
   "cell_type": "markdown",
   "metadata": {},
   "source": [
    "### Taxa de frame (FPS)"
   ]
  },
  {
   "cell_type": "code",
   "execution_count": 5,
   "metadata": {},
   "outputs": [],
   "source": [
    "tempo_atual = 0\n",
    "tempo_anterior = 0"
   ]
  },
  {
   "cell_type": "markdown",
   "metadata": {},
   "source": [
    "### Módulo `DetectorMao`"
   ]
  },
  {
   "cell_type": "code",
   "execution_count": 15,
   "metadata": {},
   "outputs": [],
   "source": [
    "detector = rm.DetectorMao(max_maos=1, deteccao_confianca=0.75, rastreamento_confianca=0.75)"
   ]
  },
  {
   "cell_type": "markdown",
   "metadata": {},
   "source": [
    "### Lista das landmarks usadas"
   ]
  },
  {
   "cell_type": "code",
   "execution_count": 20,
   "metadata": {},
   "outputs": [],
   "source": [
    "# Serão usadas as lankdmarks das pontas dos dedos, em ordem: dedão, indicador, médio, anelar e mindinho\n",
    "landmarks_ponta_dedos = [4, 8 , 12, 16, 20]"
   ]
  },
  {
   "cell_type": "markdown",
   "metadata": {},
   "source": [
    "### Captura de vídeo"
   ]
  },
  {
   "cell_type": "code",
   "execution_count": 37,
   "metadata": {},
   "outputs": [],
   "source": [
    "cap = cv2.VideoCapture(0)\n",
    "cap.set(3, largura_tela)  # 3 para informar a largura\n",
    "cap.set(4, altura_tela)  # 4 para informar a altura\n",
    "\n",
    "while True:\n",
    "    sucesso, imagem = cap.read()\n",
    "    imagem = detector.encontrar_maos(imagem)\n",
    "    lista_landmark = detector.encontrar_posicao(imagem, desenho=False)\n",
    "    \n",
    "    # Pegar as posições das landmarks que usaremos\n",
    "    if lista_landmark:\n",
    "        dedos = []\n",
    "        # Loop para o dedão (usa o eixo X para verificar se está levantando ou abaixado)\n",
    "        if lista_landmark[landmarks_ponta_dedos[0]][1] > lista_landmark[landmarks_ponta_dedos[0] - 1][1]:\n",
    "            dedos.append(1)\n",
    "        else:\n",
    "            dedos.append(0)\n",
    "        \n",
    "        # Loop para todos os dedos menos o dedão\n",
    "        for ponta_dedo in range(1, 5):\n",
    "            # Pegar a posição no eixo Y da ponta de cada dedo\n",
    "            # diminui 2 porque da ponta do dedo até o mínimo estabelecido são duas landmarks\n",
    "            if (lista_landmark[landmarks_ponta_dedos[ponta_dedo]][2] < \n",
    "                lista_landmark[landmarks_ponta_dedos[ponta_dedo] - 2][2]):\n",
    "                dedos.append(1)\n",
    "            else:\n",
    "                dedos.append(0)\n",
    "        \n",
    "        # Ver quantos dedos estão levantados\n",
    "        dedos_levantados = dedos.count(1)\n",
    "    \n",
    "        # Personalizar o tamanho da foto, não precisando redimensionar foto por foto\n",
    "        altura_foto, largura_foto, canal = lista_fotos[dedos_levantados-1].shape\n",
    "\n",
    "        # Colocar a foto dos dedos na captura de imagem\n",
    "        imagem[0: altura_foto, 0: largura_foto] = lista_fotos[dedos_levantados-1]\n",
    "        \n",
    "        # Colocar o retângulo para mostrar os números\n",
    "        cv2.rectangle(imagem, (20, 300), (170, 470), (0, 0, 0), cv2.FILLED)\n",
    "        \n",
    "        # Colocar os números no retângulo\n",
    "        cv2.putText(imagem, str(dedos_levantados), (45, 440), cv2.FONT_HERSHEY_PLAIN, 10, (255, 255, 255), 25)\n",
    "    \n",
    "    # Configrar o FPS\n",
    "    tempo_atual = time.time()\n",
    "    fps = 1/(tempo_atual - tempo_anterior)\n",
    "    tempo_anterior = tempo_atual\n",
    "    \n",
    "    # Mostrar o FPS na tela\n",
    "    cv2.putText(imagem, f'FPS: {int(fps)}', (425, 50), cv2.FONT_HERSHEY_PLAIN, 3, (0, 255, 255), 3)\n",
    "    \n",
    "    # Mostrar a imagem na tela\n",
    "    cv2.imshow('Imagem', imagem)\n",
    "    \n",
    "    # Terminar o loop\n",
    "    if cv2.waitKey(1) & 0xFF == ord('s'):\n",
    "        break\n",
    "        \n",
    "# Fechar a tela de captura\n",
    "cap.release()\n",
    "cv2.destroyAllWindows()"
   ]
  }
 ],
 "metadata": {
  "kernelspec": {
   "display_name": "Python 3",
   "language": "python",
   "name": "python3"
  },
  "language_info": {
   "codemirror_mode": {
    "name": "ipython",
    "version": 3
   },
   "file_extension": ".py",
   "mimetype": "text/x-python",
   "name": "python",
   "nbconvert_exporter": "python",
   "pygments_lexer": "ipython3",
   "version": "3.8.5"
  }
 },
 "nbformat": 4,
 "nbformat_minor": 4
}
